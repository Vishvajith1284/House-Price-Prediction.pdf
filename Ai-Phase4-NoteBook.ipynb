{
 "cells": [
  {
   "cell_type": "code",
   "execution_count": 1,
   "id": "314c8e7d",
   "metadata": {
    "_cell_guid": "b1076dfc-b9ad-4769-8c92-a6c4dae69d19",
    "_uuid": "8f2839f25d086af736a60e9eeb907d3b93b6e0e5",
    "execution": {
     "iopub.execute_input": "2023-11-01T19:07:15.686390Z",
     "iopub.status.busy": "2023-11-01T19:07:15.685944Z",
     "iopub.status.idle": "2023-11-01T19:07:15.709588Z",
     "shell.execute_reply": "2023-11-01T19:07:15.707997Z"
    },
    "papermill": {
     "duration": 0.029343,
     "end_time": "2023-11-01T19:07:15.711327",
     "exception": true,
     "start_time": "2023-11-01T19:07:15.681984",
     "status": "failed"
    },
    "tags": []
   },
   "outputs": [
    {
     "ename": "SyntaxError",
     "evalue": "unterminated string literal (detected at line 8) (774411645.py, line 8)",
     "output_type": "error",
     "traceback": [
      "\u001b[0;36m  Cell \u001b[0;32mIn[1], line 8\u001b[0;36m\u001b[0m\n\u001b[0;31m    file_url = \"/kaggle/input/datasets/houseprice/csv-housing\u001b[0m\n\u001b[0m               ^\u001b[0m\n\u001b[0;31mSyntaxError\u001b[0m\u001b[0;31m:\u001b[0m unterminated string literal (detected at line 8)\n"
     ]
    }
   ],
   "source": [
    "import pandas as pd\n",
    "import numpy as np\n",
    "import matplotlib.pyplot as plt\n",
    "import seaborn as sns\n",
    "%matplotlib inline\n",
    "import warnings\n",
    "warnings.filterwarnings('ignore')\n",
    "file_url = \"/kaggle/input/datasets/houseprice/csv-housing\n",
    "USAhousing = pd.read_csv(file_url)\n",
    "USAhousing.info()\n",
    "USAhousing.describe()\n",
    "USAhousing.columns\n",
    "sns.distplot(USAhousing['Price'])\n",
    "housing= USAhousing[['Avg. Area Income', 'Avg. Area House Age', 'Avg. Area Number of Rooms',\n",
    "                'Avg. Areaumber of Bedrooms', 'Area Population', 'Price']]\n",
    "housing.corr()\n",
    "sns.heatmap(housing.corr(), annot=True)\n",
    "X = housing[['Avg. Area Income', 'Avg. Area House Age', 'Avg. Area Number of Rooms',\n",
    "                'Avg. Area Number of Bedrooms', 'Area Population']]\n",
    "y = housing['Price']\n",
    "from sklearn.model_selection import train_test_split\n",
    "X_train, X_test, y_train, y_test = train_test_split(X, y, test_size=0.4, random_state=101)  # 40% for test si\n",
    "from sklearn.linear_model import LinearRegression\n",
    "lm = LinearRegression()\n",
    "\n",
    "\n",
    "lm.fit(X_train,y_train)\n",
    "coeff_df = pd.DataFrame(lm.coef_,X.columns,columns=['Coefficient'])\n",
    "coeff_df\n",
    "predictions = lm.predict(X_test)\n",
    "plt.scatter(y_test, predictions, edgecolor='black\n",
    "            from sklearn import metrics\n",
    "print('MAE:', metrics.mean_absolute_error(y_test, predictions))\n",
    "print('MSE:', metrics.mean_squared_error(y_test, predictions))\n",
    "print('RMSE:', np.sqrt(metrics.mean_squared_error(y_test, predictions)))\n",
    "            \n",
    "            "
   ]
  }
 ],
 "metadata": {
  "kernelspec": {
   "display_name": "Python 3",
   "language": "python",
   "name": "python3"
  },
  "language_info": {
   "codemirror_mode": {
    "name": "ipython",
    "version": 3
   },
   "file_extension": ".py",
   "mimetype": "text/x-python",
   "name": "python",
   "nbconvert_exporter": "python",
   "pygments_lexer": "ipython3",
   "version": "3.10.12"
  },
  "papermill": {
   "default_parameters": {},
   "duration": 5.28706,
   "end_time": "2023-11-01T19:07:16.134710",
   "environment_variables": {},
   "exception": true,
   "input_path": "__notebook__.ipynb",
   "output_path": "__notebook__.ipynb",
   "parameters": {},
   "start_time": "2023-11-01T19:07:10.847650",
   "version": "2.4.0"
  }
 },
 "nbformat": 4,
 "nbformat_minor": 5
}
