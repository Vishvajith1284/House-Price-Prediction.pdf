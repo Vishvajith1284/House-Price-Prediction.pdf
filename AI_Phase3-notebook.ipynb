{
 "cells": [
  {
   "cell_type": "code",
   "execution_count": 1,
   "id": "ea16f2a3",
   "metadata": {
    "_cell_guid": "b1076dfc-b9ad-4769-8c92-a6c4dae69d19",
    "_uuid": "8f2839f25d086af736a60e9eeb907d3b93b6e0e5",
    "execution": {
     "iopub.execute_input": "2023-10-26T16:01:44.396017Z",
     "iopub.status.busy": "2023-10-26T16:01:44.394557Z",
     "iopub.status.idle": "2023-10-26T16:01:44.418829Z",
     "shell.execute_reply": "2023-10-26T16:01:44.417331Z"
    },
    "papermill": {
     "duration": 0.030456,
     "end_time": "2023-10-26T16:01:44.420904",
     "exception": true,
     "start_time": "2023-10-26T16:01:44.390448",
     "status": "failed"
    },
    "tags": []
   },
   "outputs": [
    {
     "ename": "IndentationError",
     "evalue": "unexpected indent (1802192611.py, line 9)",
     "output_type": "error",
     "traceback": [
      "\u001b[0;36m  Cell \u001b[0;32mIn[1], line 9\u001b[0;36m\u001b[0m\n\u001b[0;31m    veri= veri.drop(columns=\"Address\",axis=1)\u001b[0m\n\u001b[0m    ^\u001b[0m\n\u001b[0;31mIndentationError\u001b[0m\u001b[0;31m:\u001b[0m unexpected indent\n"
     ]
    }
   ],
   "source": [
    "import pandas as pd\n",
    "import numpy as np\n",
    "import seaborn as sns\n",
    "import matplotlib.pyplot as plt\n",
    "df=pd.read_csv(\"/kaggle/input/usa-housing/USA_Housing.csv\")\n",
    "veri = df.copy()\n",
    "veri.head()\n",
    "veri.info()    \n",
    " veri= veri.drop(columns=\"Address\",axis=1)        \n",
    " df.describe().T   \n",
    " sns.pairplot(veri)\n",
    "sns.heatmap(veri.corr(),annot=True)\n",
    "import statsmodels.api as sm\n",
    "from statsmodels.stats.outliers_influence import variance_inflation_factor\n",
    "y = veri[\"Price\"]\n",
    "X= veri.drop(columns=\"Price\",axis=1)\n",
    "cons = sm.add_constant(X)\n",
    "vif= pd.DataFrame()\n",
    "vif[\"variables\"]=X.columns\n",
    "vif[\"vif\"]=[variance_inflation_factor(cons,i+1) for i in range(X.shape[1])]\n",
    "vif\n",
    "from sklearn.model_selection import train_test_split,cross_val_score\n",
    "X_train, X_test, y_train, y_test = train_test_split(X, y, test_size=0.2, random_state=42)\n",
    "from sklearn.preprocessing import StandardScaler\n",
    "\n",
    "ss = StandardScaler()\n",
    "X_train = ss.fit_transform(X_train)\n",
    "X_test = ss.transform(X_test)\n",
    "import sklearn.metrics as mt\n",
    "def cross_val(model):\n",
    "vali=cross_val_score(model,X,y,cv=10)\n",
    "return vali.mean()\n",
    "def success(true_,pred):\n",
    " rmse=mt.mean_absolute_error(true_,pred)\n",
    " r2=mt.r2_score(true_,pred)\n",
    " return[rmse,r2]\n",
    "from sklearn.linear_model import LinearRegression,Ridge,Lasso,ElasticNet\n",
    "li_model=LinearRegression()\n",
    "li_model.fit(X_train,y_train)\n",
    "li_pred = li_model.predict(X_test)\n",
    "ridge_model=Ridge(alpha=0.1)\n",
    "ridge_model.fit(X_train,y_train)\n",
    "ridge_pred = ridge_model.predict(X_test)\n",
    "lasso_model=Lasso(alpha=0.1)\n",
    "lasso_model.fit(X_train,y_train)\n",
    "lasso_pred = lasso_model.predict(X_test)\n",
    "elas_model=ElasticNet(alpha=0.1)\n",
    "elas_model.fit(X_train,y_train)\n",
    "elas_pred = elas_model.predict(X_test)\n",
    "result=[[\"Linear model\",success(y_test,li_pred)[0],success(y_test,li_pred)[1],cross_val(li_model)],\n",
    "        [\"Ridge model\",success(y_test,ridge_pred)[0],success(y_test,ridge_pred)[1],cross_val(ridge_model)],\n",
    "        [\"Lasso model\",success(y_test,lasso_pred)[0],success(y_test,lasso_pred)[1],cross_val(lasso_model)],\n",
    "        [\"ElasticNet model\",success(y_test,elas_pred)[0],success(y_test,elas_pred)[1],cross_val(elas_model)]\n",
    "        ]\n",
    "pd.options.display.float_format=\"{:.4f}\".format\n",
    "result=pd.DataFrame(result,columns=[\"Model\",\"RMSE\",\"R2\",\"Verification\"])\n",
    "result\n"
   ]
  }
 ],
 "metadata": {
  "kernelspec": {
   "display_name": "Python 3",
   "language": "python",
   "name": "python3"
  },
  "language_info": {
   "codemirror_mode": {
    "name": "ipython",
    "version": 3
   },
   "file_extension": ".py",
   "mimetype": "text/x-python",
   "name": "python",
   "nbconvert_exporter": "python",
   "pygments_lexer": "ipython3",
   "version": "3.10.12"
  },
  "papermill": {
   "default_parameters": {},
   "duration": 4.19759,
   "end_time": "2023-10-26T16:01:44.842579",
   "environment_variables": {},
   "exception": true,
   "input_path": "__notebook__.ipynb",
   "output_path": "__notebook__.ipynb",
   "parameters": {},
   "start_time": "2023-10-26T16:01:40.644989",
   "version": "2.4.0"
  }
 },
 "nbformat": 4,
 "nbformat_minor": 5
}
